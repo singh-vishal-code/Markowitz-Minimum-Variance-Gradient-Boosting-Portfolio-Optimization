{
  "nbformat": 4,
  "nbformat_minor": 0,
  "metadata": {
    "colab": {
      "provenance": []
    },
    "kernelspec": {
      "name": "python3",
      "display_name": "Python 3"
    },
    "language_info": {
      "name": "python"
    }
  },
  "cells": [
    {
      "cell_type": "code",
      "source": [
        "import numpy as np\n",
        "import pandas as pd\n",
        "import yfinance as yf\n",
        "import matplotlib.pyplot as plt\n",
        "import seaborn as sns\n",
        "from scipy.optimize import minimize"
      ],
      "metadata": {
        "id": "EZwMfDqad3kR"
      },
      "execution_count": null,
      "outputs": []
    },
    {
      "cell_type": "code",
      "source": [
        "tickers = ['MRF.BO', 'PAGEIND.BO', 'BOSCHLTD.BO', 'NTPC.BO', 'BEL.BO']\n",
        "start_date = '2020-01-01'\n",
        "end_date='END'\n",
        "trading_days = 252"
      ],
      "metadata": {
        "id": "jyGcTmDDd6cq"
      },
      "execution_count": null,
      "outputs": []
    },
    {
      "cell_type": "code",
      "source": [
        "data = yf.download(tickers, start=start_date, progress=False)['Close']\n",
        "print(data.head())"
      ],
      "metadata": {
        "colab": {
          "base_uri": "https://localhost:8080/"
        },
        "id": "2rdM_XkyeGvv",
        "outputId": "bfbb5518-04af-48ea-d792-f3b14c9a7514"
      },
      "execution_count": null,
      "outputs": [
        {
          "output_type": "stream",
          "name": "stderr",
          "text": [
            "/tmp/ipython-input-2015233259.py:1: FutureWarning: YF.download() has changed argument auto_adjust default to True\n",
            "  data = yf.download(tickers, start=start_date, progress=False)['Close']\n"
          ]
        },
        {
          "output_type": "stream",
          "name": "stdout",
          "text": [
            "Ticker         BEL.BO   BOSCHLTD.BO        MRF.BO    NTPC.BO    PAGEIND.BO\n",
            "Date                                                                      \n",
            "2020-01-01  25.508858  14316.602539  66011.335938  98.077988  22212.332031\n",
            "2020-01-02  26.286098  14434.021484  66633.609375  97.956902  22191.962891\n",
            "2020-01-03  25.738209  14207.760742  65921.414062  96.302101  21921.259766\n",
            "2020-01-06  24.706133  13918.100586  64799.566406  95.979202  21510.242188\n",
            "2020-01-07  24.553230  13880.852539  64723.144531  97.270775  21498.855469\n"
          ]
        }
      ]
    },
    {
      "cell_type": "code",
      "source": [
        "returns = data.pct_change().dropna()"
      ],
      "metadata": {
        "colab": {
          "base_uri": "https://localhost:8080/"
        },
        "id": "3RtTXk50eJph",
        "outputId": "b2482b66-b258-497e-8455-3e73929fd899"
      },
      "execution_count": null,
      "outputs": [
        {
          "output_type": "stream",
          "name": "stderr",
          "text": [
            "/tmp/ipython-input-1517689983.py:1: FutureWarning: The default fill_method='pad' in DataFrame.pct_change is deprecated and will be removed in a future version. Either fill in any non-leading NA values prior to calling pct_change or specify 'fill_method=None' to not fill NA values.\n",
            "  returns = data.pct_change().dropna()\n"
          ]
        }
      ]
    },
    {
      "cell_type": "code",
      "source": [
        "mean_returns = returns.mean() * trading_days\n",
        "cov_matrix = returns.cov() * trading_days"
      ],
      "metadata": {
        "id": "spE2hFoYecMQ"
      },
      "execution_count": null,
      "outputs": []
    },
    {
      "cell_type": "code",
      "source": [
        "def portfolio_volatility(weights):\n",
        "    return np.sqrt(np.dot(weights.T, np.dot(cov_matrix, weights)))"
      ],
      "metadata": {
        "id": "38pejuR4efPv"
      },
      "execution_count": null,
      "outputs": []
    },
    {
      "cell_type": "code",
      "source": [
        "n = len(tickers)\n",
        "init_guess = [1/n] * n\n",
        "bounds = [(0, 1)] * n\n",
        "constraints = {'type': 'eq', 'fun': lambda w: np.sum(w) - 1}"
      ],
      "metadata": {
        "id": "o4f_TuoSein9"
      },
      "execution_count": null,
      "outputs": []
    },
    {
      "cell_type": "code",
      "source": [
        "result = minimize(portfolio_volatility, init_guess, method='SLSQP', bounds=bounds, constraints=constraints)\n",
        "weights = result.x"
      ],
      "metadata": {
        "id": "WmfD38-MemYv"
      },
      "execution_count": null,
      "outputs": []
    },
    {
      "cell_type": "code",
      "source": [
        "portfolio_return = np.dot(weights, mean_returns)\n",
        "portfolio_vol = portfolio_volatility(weights)"
      ],
      "metadata": {
        "id": "z8IfNI5KenPC"
      },
      "execution_count": null,
      "outputs": []
    },
    {
      "cell_type": "code",
      "source": [
        "print(\"Minimum Variance Portfolio (Markowitz):\")\n",
        "print(\"Optimal Weights:\")\n",
        "for ticker, w in zip(tickers, weights):\n",
        "    print(f\"{ticker}: {w:.4f}\")"
      ],
      "metadata": {
        "colab": {
          "base_uri": "https://localhost:8080/"
        },
        "id": "LFnVLfYueskN",
        "outputId": "37cb889b-a3d1-47b5-d1b4-3915cb919576"
      },
      "execution_count": null,
      "outputs": [
        {
          "output_type": "stream",
          "name": "stdout",
          "text": [
            "Minimum Variance Portfolio (Markowitz):\n",
            "Optimal Weights:\n",
            "MRF.BO: 0.0130\n",
            "PAGEIND.BO: 0.1271\n",
            "BOSCHLTD.BO: 0.3288\n",
            "NTPC.BO: 0.2546\n",
            "BEL.BO: 0.2764\n"
          ]
        }
      ]
    },
    {
      "cell_type": "code",
      "source": [
        "print(\"\\nPortfolio Performance:\")\n",
        "print(f\"Expected Annual Return: {portfolio_return:.2%}\")\n",
        "print(f\"Annual Volatility     : {portfolio_vol:.2%}\")"
      ],
      "metadata": {
        "colab": {
          "base_uri": "https://localhost:8080/"
        },
        "id": "P0IEjEy0dh55",
        "outputId": "e3ffd5f9-8750-49dd-f690-393a3a19e794"
      },
      "execution_count": null,
      "outputs": [
        {
          "output_type": "stream",
          "name": "stdout",
          "text": [
            "\n",
            "Portfolio Performance:\n",
            "Expected Annual Return: 20.67%\n",
            "Annual Volatility     : 19.86%\n"
          ]
        }
      ]
    },
    {
      "cell_type": "code",
      "source": [],
      "metadata": {
        "id": "7RrMENdce7Dv"
      },
      "execution_count": null,
      "outputs": []
    },
    {
      "cell_type": "markdown",
      "source": [
        "# Now with Gradient Boosting"
      ],
      "metadata": {
        "id": "_eM8p6TpgciL"
      }
    },
    {
      "cell_type": "code",
      "source": [
        "import yfinance as yf\n",
        "import pandas as pd\n",
        "import numpy as np\n",
        "from sklearn.ensemble import GradientBoostingRegressor\n",
        "from sklearn.model_selection import train_test_split\n",
        "from sklearn.metrics import mean_squared_error\n",
        "import matplotlib.pyplot as plt"
      ],
      "metadata": {
        "id": "5suYrHiCgjuN"
      },
      "execution_count": null,
      "outputs": []
    },
    {
      "cell_type": "code",
      "source": [
        "tickers = ['MRF.BO', 'ADANIPORTS.BO', 'BOSCHLTD.BO', 'NTPC.BO', 'BEL.BO']\n",
        "\n",
        "data = yf.download(tickers, start=\"2020-01-01\", end=\"2023-12-31\")['Close']\n",
        "\n",
        "returns = data.pct_change().dropna()\n",
        "print(returns.head())"
      ],
      "metadata": {
        "colab": {
          "base_uri": "https://localhost:8080/"
        },
        "id": "Ah_ouCQ0h4FE",
        "outputId": "d3c2307d-ac6e-42bf-e30a-a9ab51ffbce2"
      },
      "execution_count": null,
      "outputs": [
        {
          "output_type": "stream",
          "name": "stderr",
          "text": [
            "/tmp/ipython-input-2388498082.py:3: FutureWarning: YF.download() has changed argument auto_adjust default to True\n",
            "  data = yf.download(tickers, start=\"2020-01-01\", end=\"2023-12-31\")['Close']\n",
            "[*********************100%***********************]  5 of 5 completed"
          ]
        },
        {
          "output_type": "stream",
          "name": "stdout",
          "text": [
            "Ticker      ADANIPORTS.BO    BEL.BO  BOSCHLTD.BO    MRF.BO   NTPC.BO\n",
            "Date                                                                \n",
            "2020-01-02       0.015358  0.030470     0.008202  0.009427 -0.001235\n",
            "2020-01-03      -0.001956 -0.020843    -0.015676 -0.010688 -0.016893\n",
            "2020-01-06      -0.006533 -0.040099    -0.020387 -0.017018 -0.003353\n",
            "2020-01-07       0.011704 -0.006189    -0.002676 -0.001179  0.013457\n",
            "2020-01-08       0.002600 -0.008822    -0.018515 -0.007254 -0.004564\n"
          ]
        },
        {
          "output_type": "stream",
          "name": "stderr",
          "text": [
            "\n",
            "/tmp/ipython-input-2388498082.py:5: FutureWarning: The default fill_method='pad' in DataFrame.pct_change is deprecated and will be removed in a future version. Either fill in any non-leading NA values prior to calling pct_change or specify 'fill_method=None' to not fill NA values.\n",
            "  returns = data.pct_change().dropna()\n"
          ]
        }
      ]
    },
    {
      "cell_type": "code",
      "source": [
        "lagged_data = returns.copy()\n",
        "\n",
        "for lag in range(1, 6):  # 5 lags\n",
        "    for col in returns.columns:\n",
        "        lagged_data[f'{col}_lag{lag}'] = returns[col].shift(lag)\n",
        "\n",
        "lagged_data.dropna(inplace=True)\n",
        "\n",
        "X = lagged_data.drop(columns=returns.columns)\n",
        "predicted_returns = {}"
      ],
      "metadata": {
        "id": "38Aihg2ohYCB"
      },
      "execution_count": null,
      "outputs": []
    },
    {
      "cell_type": "code",
      "source": [
        "for stock in returns.columns:\n",
        "    y = lagged_data[stock]\n",
        "\n",
        "    X_train, X_test, y_train, y_test = train_test_split(X, y, test_size=0.2, shuffle=False)\n",
        "\n",
        "    model = GradientBoostingRegressor(n_estimators=200, learning_rate=0.05, max_depth=3)\n",
        "    model.fit(X_train, y_train)\n",
        "\n",
        "    y_pred = model.predict(X_test)\n",
        "    mse = mean_squared_error(y_test, y_pred)\n",
        "\n",
        "    predicted_returns[stock] = y_pred[-1]\n",
        "\n",
        "    print(f\"{stock}: MSE = {mse:.6f}\")"
      ],
      "metadata": {
        "colab": {
          "base_uri": "https://localhost:8080/"
        },
        "id": "M5OIZRRlhnvs",
        "outputId": "ee9397c1-d918-41a8-8d6b-d6af4f7fd60c"
      },
      "execution_count": null,
      "outputs": [
        {
          "output_type": "stream",
          "name": "stdout",
          "text": [
            "ADANIPORTS.BO: MSE = 0.000598\n",
            "BEL.BO: MSE = 0.000294\n",
            "BOSCHLTD.BO: MSE = 0.000169\n",
            "MRF.BO: MSE = 0.000138\n",
            "NTPC.BO: MSE = 0.000216\n"
          ]
        }
      ]
    },
    {
      "cell_type": "code",
      "source": [
        "predicted_series = pd.Series(predicted_returns)\n",
        "\n",
        "predicted_series = predicted_series.clip(lower=0)\n",
        "\n",
        "if predicted_series.sum() == 0:\n",
        "    weights = pd.Series([1/len(predicted_series)] * len(predicted_series), index=predicted_series.index)\n",
        "else:\n",
        "    weights = predicted_series / predicted_series.sum()\n",
        "\n",
        "print(\"\\nPredicted Returns:\")\n",
        "print(predicted_series)\n",
        "\n",
        "print(\"\\nPortfolio Weights (No Short Selling):\")\n",
        "print(weights)"
      ],
      "metadata": {
        "colab": {
          "base_uri": "https://localhost:8080/"
        },
        "id": "f_ehCYPtiwV-",
        "outputId": "98c13385-e0ce-4db9-9312-170b8a7e36a9"
      },
      "execution_count": null,
      "outputs": [
        {
          "output_type": "stream",
          "name": "stdout",
          "text": [
            "\n",
            "Predicted Returns:\n",
            "ADANIPORTS.BO    0.014991\n",
            "BEL.BO           0.002403\n",
            "BOSCHLTD.BO      0.002996\n",
            "MRF.BO           0.000000\n",
            "NTPC.BO          0.001922\n",
            "dtype: float64\n",
            "\n",
            "Portfolio Weights (No Short Selling):\n",
            "ADANIPORTS.BO    0.671862\n",
            "BEL.BO           0.107711\n",
            "BOSCHLTD.BO      0.134290\n",
            "MRF.BO           0.000000\n",
            "NTPC.BO          0.086138\n",
            "dtype: float64\n"
          ]
        }
      ]
    },
    {
      "cell_type": "code",
      "source": [
        "expected_return = (weights * predicted_series).sum()\n",
        "print(f\"\\nExpected Portfolio Return (next day): {expected_return:.6f}\")"
      ],
      "metadata": {
        "colab": {
          "base_uri": "https://localhost:8080/"
        },
        "id": "cU981XoCiYZc",
        "outputId": "ee1809cd-847f-4ba3-8e94-f9871c76697d"
      },
      "execution_count": null,
      "outputs": [
        {
          "output_type": "stream",
          "name": "stdout",
          "text": [
            "\n",
            "Expected Portfolio Return (next day): 0.010899\n"
          ]
        }
      ]
    },
    {
      "cell_type": "code",
      "source": [
        "plt.figure(figsize=(8, 5))\n",
        "weights.plot(kind='bar', color='skyblue')\n",
        "plt.title('Portfolio Allocation Based on Gradient Boosting Predictions')\n",
        "plt.ylabel('Weight')\n",
        "plt.show()"
      ],
      "metadata": {
        "colab": {
          "base_uri": "https://localhost:8080/",
          "height": 567
        },
        "id": "1cyw9p_rifDr",
        "outputId": "5753bafe-f557-459d-f1a9-7873aa3009d8"
      },
      "execution_count": null,
      "outputs": [
        {
          "output_type": "display_data",
          "data": {
            "text/plain": [
              "<Figure size 800x500 with 1 Axes>"
            ],
            "image/png": "[encoded data removed]"
          },
          "metadata": {}
        }
      ]
    },
    {
      "cell_type": "code",
      "source": [],
      "metadata": {
        "id": "Eu1ubY99iiTu"
      },
      "execution_count": null,
      "outputs": []
    }
  ]
}